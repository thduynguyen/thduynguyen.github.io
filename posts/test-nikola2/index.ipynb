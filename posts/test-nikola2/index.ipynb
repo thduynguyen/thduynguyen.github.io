{
 "cells": [
  {
   "cell_type": "code",
   "execution_count": 2,
   "metadata": {
    "collapsed": false
   },
   "outputs": [
    {
     "name": "stdout",
     "output_type": "stream",
     "text": [
      "\u001b[33;01m[2015-09-21T03:40:35Z] WARNING: ShimWarning: //anaconda/lib/python3.4/site-packages/IPython/nbconvert.py:13: The `IPython.nbconvert` package has been deprecated. You should import from ipython_nbconvert instead.\u001b[39;49;00m\n",
      "\u001b[33;01m[2015-09-21T03:40:35Z] WARNING: ShimWarning: //anaconda/lib/python3.4/site-packages/IPython/nbformat.py:13: The `IPython.nbformat` package has been deprecated. You should import from nbformat instead.\u001b[39;49;00m\n",
      "\u001b[33;01m[2015-09-21T03:40:35Z] WARNING: ShimWarning: //anaconda/lib/python3.4/site-packages/IPython/kernel/__init__.py:13: The `IPython.kernel` package has been deprecated. You should import from ipykernel or jupyter_client instead.\u001b[39;49;00m\n",
      "\u001b[33;01m[2015-09-21T03:40:35Z] WARNING: ShimWarning: //anaconda/lib/python3.4/site-packages/IPython/config.py:13: The `IPython.config` package has been deprecated. You should import from traitlets.config instead.\u001b[39;49;00m\n",
      "\u001b[33;01m[2015-09-21T03:40:36Z] WARNING: Nikola: In order to USE_BUNDLES, you must install the \"webassets\" Python package.\u001b[39;49;00m\n",
      "\u001b[33;01m[2015-09-21T03:40:36Z] WARNING: bundles: Setting USE_BUNDLES to False.\u001b[39;49;00m\n",
      "\u001b[33;01m[2015-09-21T03:40:36Z] WARNING: Nikola: In order to USE_BUNDLES, you must install the \"webassets\" Python package.\u001b[39;49;00m\n",
      "\u001b[33;01m[2015-09-21T03:40:36Z] WARNING: bundles: Setting USE_BUNDLES to False.\u001b[39;49;00m\n",
      "Scanning posts.....done!\n",
      "Scanning posts.....done!\n",
      "\u001b[37m[2015-09-21T03:40:37Z] INFO: github_deploy: ==> ['ghp-import', '-n', '-m', 'Nikola auto commit.\\n\\nSource commit: 650a77cbba11e939c5cfd87861c162eb8963be45\\nNikola version: 7.6.0', '-p', '-r', 'origin', '-b', 'master', 'output']\u001b[39;49;00m\n",
      "Counting objects: 1, done.\n",
      "Writing objects: 100% (1/1), 245 bytes | 0 bytes/s, done.\n",
      "Total 1 (delta 0), reused 1 (delta 0)\n",
      "To https://github.com/thduynguyen/thduynguyen.github.io.git\n",
      "   d81c0ab..c59561a  master -> master\n",
      "\u001b[37m[2015-09-21T03:40:39Z] INFO: github_deploy: Successful deployment\u001b[39;49;00m\n"
     ]
    }
   ],
   "source": [
    "!nikola github_deploy"
   ]
  },
  {
   "cell_type": "code",
   "execution_count": null,
   "metadata": {
    "collapsed": true
   },
   "outputs": [],
   "source": []
  }
 ],
 "metadata": {
  "kernelspec": {
   "display_name": "Python 3",
   "language": "python",
   "name": "python3"
  },
  "language_info": {
   "codemirror_mode": {
    "name": "ipython",
    "version": 3
   },
   "file_extension": ".py",
   "mimetype": "text/x-python",
   "name": "python",
   "nbconvert_exporter": "python",
   "pygments_lexer": "ipython3",
   "version": "3.4.3"
  }
 },
 "nbformat": 4,
 "nbformat_minor": 0
}
